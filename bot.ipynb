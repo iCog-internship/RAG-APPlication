{
 "cells": [
  {
   "cell_type": "markdown",
   "metadata": {},
   "source": [
    "First installations"
   ]
  },
  {
   "cell_type": "code",
   "execution_count": null,
   "metadata": {
    "vscode": {
     "languageId": "plaintext"
    }
   },
   "outputs": [],
   "source": [
    "%pip install langchain langchain_community langchain_chroma\n",
    "%pip install -qU pypdf langchain_community\n",
    "%pip install -qU langchain-openai\n",
    "%pip install -U langchain_together"
   ]
  }
 ],
 "metadata": {
  "language_info": {
   "name": "python"
  }
 },
 "nbformat": 4,
 "nbformat_minor": 2
}
