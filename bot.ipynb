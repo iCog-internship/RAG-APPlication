{
 "cells": [
  {
   "cell_type": "markdown",
   "metadata": {},
   "source": [
    "First installations"
   ]
  },
  {
   "cell_type": "code",
   "execution_count": 1,
   "metadata": {},
   "outputs": [
    {
     "name": "stdout",
     "output_type": "stream",
     "text": [
      "\n",
      "\u001b[1m[\u001b[0m\u001b[34;49mnotice\u001b[0m\u001b[1;39;49m]\u001b[0m\u001b[39;49m A new release of pip is available: \u001b[0m\u001b[31;49m24.0\u001b[0m\u001b[39;49m -> \u001b[0m\u001b[32;49m24.2\u001b[0m\n",
      "\u001b[1m[\u001b[0m\u001b[34;49mnotice\u001b[0m\u001b[1;39;49m]\u001b[0m\u001b[39;49m To update, run: \u001b[0m\u001b[32;49mpip install --upgrade pip\u001b[0m\n",
      "Note: you may need to restart the kernel to use updated packages.\n",
      "\n",
      "\u001b[1m[\u001b[0m\u001b[34;49mnotice\u001b[0m\u001b[1;39;49m]\u001b[0m\u001b[39;49m A new release of pip is available: \u001b[0m\u001b[31;49m24.0\u001b[0m\u001b[39;49m -> \u001b[0m\u001b[32;49m24.2\u001b[0m\n",
      "\u001b[1m[\u001b[0m\u001b[34;49mnotice\u001b[0m\u001b[1;39;49m]\u001b[0m\u001b[39;49m To update, run: \u001b[0m\u001b[32;49mpip install --upgrade pip\u001b[0m\n",
      "Note: you may need to restart the kernel to use updated packages.\n",
      "Collecting langchain_together\n",
      "  Using cached langchain_together-0.1.5-py3-none-any.whl.metadata (1.9 kB)\n",
      "Requirement already satisfied: aiohttp<4.0.0,>=3.9.1 in ./venv/lib64/python3.11/site-packages (from langchain_together) (3.10.5)\n",
      "Requirement already satisfied: langchain-core<0.3.0,>=0.2.26 in ./venv/lib64/python3.11/site-packages (from langchain_together) (0.2.38)\n",
      "Requirement already satisfied: langchain-openai<0.2.0,>=0.1.16 in ./venv/lib64/python3.11/site-packages (from langchain_together) (0.1.23)\n",
      "Requirement already satisfied: requests<3,>=2 in ./venv/lib64/python3.11/site-packages (from langchain_together) (2.32.3)\n",
      "Requirement already satisfied: aiohappyeyeballs>=2.3.0 in ./venv/lib64/python3.11/site-packages (from aiohttp<4.0.0,>=3.9.1->langchain_together) (2.4.0)\n",
      "Requirement already satisfied: aiosignal>=1.1.2 in ./venv/lib64/python3.11/site-packages (from aiohttp<4.0.0,>=3.9.1->langchain_together) (1.3.1)\n",
      "Requirement already satisfied: attrs>=17.3.0 in ./venv/lib64/python3.11/site-packages (from aiohttp<4.0.0,>=3.9.1->langchain_together) (24.2.0)\n",
      "Requirement already satisfied: frozenlist>=1.1.1 in ./venv/lib64/python3.11/site-packages (from aiohttp<4.0.0,>=3.9.1->langchain_together) (1.4.1)\n",
      "Requirement already satisfied: multidict<7.0,>=4.5 in ./venv/lib64/python3.11/site-packages (from aiohttp<4.0.0,>=3.9.1->langchain_together) (6.0.5)\n",
      "Requirement already satisfied: yarl<2.0,>=1.0 in ./venv/lib64/python3.11/site-packages (from aiohttp<4.0.0,>=3.9.1->langchain_together) (1.9.8)\n",
      "Requirement already satisfied: PyYAML>=5.3 in ./venv/lib64/python3.11/site-packages (from langchain-core<0.3.0,>=0.2.26->langchain_together) (6.0.2)\n",
      "Requirement already satisfied: jsonpatch<2.0,>=1.33 in ./venv/lib64/python3.11/site-packages (from langchain-core<0.3.0,>=0.2.26->langchain_together) (1.33)\n",
      "Requirement already satisfied: langsmith<0.2.0,>=0.1.75 in ./venv/lib64/python3.11/site-packages (from langchain-core<0.3.0,>=0.2.26->langchain_together) (0.1.111)\n",
      "Requirement already satisfied: packaging<25,>=23.2 in ./venv/lib64/python3.11/site-packages (from langchain-core<0.3.0,>=0.2.26->langchain_together) (24.1)\n",
      "Requirement already satisfied: pydantic<3,>=1 in ./venv/lib64/python3.11/site-packages (from langchain-core<0.3.0,>=0.2.26->langchain_together) (2.8.2)\n",
      "Requirement already satisfied: tenacity!=8.4.0,<9.0.0,>=8.1.0 in ./venv/lib64/python3.11/site-packages (from langchain-core<0.3.0,>=0.2.26->langchain_together) (8.5.0)\n",
      "Requirement already satisfied: typing-extensions>=4.7 in ./venv/lib64/python3.11/site-packages (from langchain-core<0.3.0,>=0.2.26->langchain_together) (4.12.2)\n",
      "Requirement already satisfied: openai<2.0.0,>=1.40.0 in ./venv/lib64/python3.11/site-packages (from langchain-openai<0.2.0,>=0.1.16->langchain_together) (1.43.0)\n",
      "Requirement already satisfied: tiktoken<1,>=0.7 in ./venv/lib64/python3.11/site-packages (from langchain-openai<0.2.0,>=0.1.16->langchain_together) (0.7.0)\n",
      "Requirement already satisfied: charset-normalizer<4,>=2 in ./venv/lib64/python3.11/site-packages (from requests<3,>=2->langchain_together) (3.3.2)\n",
      "Requirement already satisfied: idna<4,>=2.5 in ./venv/lib64/python3.11/site-packages (from requests<3,>=2->langchain_together) (3.8)\n",
      "Requirement already satisfied: urllib3<3,>=1.21.1 in ./venv/lib64/python3.11/site-packages (from requests<3,>=2->langchain_together) (2.2.2)\n",
      "Requirement already satisfied: certifi>=2017.4.17 in ./venv/lib64/python3.11/site-packages (from requests<3,>=2->langchain_together) (2024.8.30)\n",
      "Requirement already satisfied: jsonpointer>=1.9 in ./venv/lib64/python3.11/site-packages (from jsonpatch<2.0,>=1.33->langchain-core<0.3.0,>=0.2.26->langchain_together) (3.0.0)\n",
      "Requirement already satisfied: httpx<1,>=0.23.0 in ./venv/lib64/python3.11/site-packages (from langsmith<0.2.0,>=0.1.75->langchain-core<0.3.0,>=0.2.26->langchain_together) (0.27.2)\n",
      "Requirement already satisfied: orjson<4.0.0,>=3.9.14 in ./venv/lib64/python3.11/site-packages (from langsmith<0.2.0,>=0.1.75->langchain-core<0.3.0,>=0.2.26->langchain_together) (3.10.7)\n",
      "Requirement already satisfied: anyio<5,>=3.5.0 in ./venv/lib64/python3.11/site-packages (from openai<2.0.0,>=1.40.0->langchain-openai<0.2.0,>=0.1.16->langchain_together) (4.4.0)\n",
      "Requirement already satisfied: distro<2,>=1.7.0 in ./venv/lib64/python3.11/site-packages (from openai<2.0.0,>=1.40.0->langchain-openai<0.2.0,>=0.1.16->langchain_together) (1.9.0)\n",
      "Requirement already satisfied: jiter<1,>=0.4.0 in ./venv/lib64/python3.11/site-packages (from openai<2.0.0,>=1.40.0->langchain-openai<0.2.0,>=0.1.16->langchain_together) (0.5.0)\n",
      "Requirement already satisfied: sniffio in ./venv/lib64/python3.11/site-packages (from openai<2.0.0,>=1.40.0->langchain-openai<0.2.0,>=0.1.16->langchain_together) (1.3.1)\n",
      "Requirement already satisfied: tqdm>4 in ./venv/lib64/python3.11/site-packages (from openai<2.0.0,>=1.40.0->langchain-openai<0.2.0,>=0.1.16->langchain_together) (4.66.5)\n",
      "Requirement already satisfied: annotated-types>=0.4.0 in ./venv/lib64/python3.11/site-packages (from pydantic<3,>=1->langchain-core<0.3.0,>=0.2.26->langchain_together) (0.7.0)\n",
      "Requirement already satisfied: pydantic-core==2.20.1 in ./venv/lib64/python3.11/site-packages (from pydantic<3,>=1->langchain-core<0.3.0,>=0.2.26->langchain_together) (2.20.1)\n",
      "Requirement already satisfied: regex>=2022.1.18 in ./venv/lib64/python3.11/site-packages (from tiktoken<1,>=0.7->langchain-openai<0.2.0,>=0.1.16->langchain_together) (2024.7.24)\n",
      "Requirement already satisfied: httpcore==1.* in ./venv/lib64/python3.11/site-packages (from httpx<1,>=0.23.0->langsmith<0.2.0,>=0.1.75->langchain-core<0.3.0,>=0.2.26->langchain_together) (1.0.5)\n",
      "Requirement already satisfied: h11<0.15,>=0.13 in ./venv/lib64/python3.11/site-packages (from httpcore==1.*->httpx<1,>=0.23.0->langsmith<0.2.0,>=0.1.75->langchain-core<0.3.0,>=0.2.26->langchain_together) (0.14.0)\n",
      "Using cached langchain_together-0.1.5-py3-none-any.whl (11 kB)\n",
      "Installing collected packages: langchain_together\n",
      "Successfully installed langchain_together-0.1.5\n",
      "\n",
      "\u001b[1m[\u001b[0m\u001b[34;49mnotice\u001b[0m\u001b[1;39;49m]\u001b[0m\u001b[39;49m A new release of pip is available: \u001b[0m\u001b[31;49m24.0\u001b[0m\u001b[39;49m -> \u001b[0m\u001b[32;49m24.2\u001b[0m\n",
      "\u001b[1m[\u001b[0m\u001b[34;49mnotice\u001b[0m\u001b[1;39;49m]\u001b[0m\u001b[39;49m To update, run: \u001b[0m\u001b[32;49mpip install --upgrade pip\u001b[0m\n",
      "Note: you may need to restart the kernel to use updated packages.\n"
     ]
    }
   ],
   "source": [
    "\n",
    "%pip install -qU pypdf langchain_community\n",
    "%pip install -qU langchain-openai\n",
    "%pip install -U langchain_together"
   ]
  },
  {
   "cell_type": "markdown",
   "metadata": {},
   "source": [
    "Document Loader"
   ]
  },
  {
   "cell_type": "code",
   "execution_count": 2,
   "metadata": {},
   "outputs": [
    {
     "name": "stdout",
     "output_type": "stream",
     "text": [
      "48\n"
     ]
    }
   ],
   "source": [
    "from langchain_community.document_loaders import PyPDFLoader\n",
    "\n",
    "file_path = \"./data/AGI.pdf\"\n",
    "loader = PyPDFLoader(file_path)\n",
    "\n",
    "docs = loader.load()\n",
    "\n",
    "print(len(docs))"
   ]
  },
  {
   "cell_type": "markdown",
   "metadata": {},
   "source": [
    "LLM"
   ]
  },
  {
   "cell_type": "code",
   "execution_count": null,
   "metadata": {},
   "outputs": [],
   "source": [
    "import getpass\n",
    "import os\n",
    "\n",
    "os.environ[\"TOGETHER_API_KEY\"] = getpass.getpass()\n",
    "\n",
    "from langchain_openai import ChatOpenAI\n",
    "\n",
    "llm = ChatOpenAI(\n",
    "    base_url=\"https://api.together.xyz/v1\",\n",
    "    api_key=os.environ[\"TOGETHER_API_KEY\"],\n",
    "    model=\"mistralai/Mixtral-8x7B-Instruct-v0.1\",\n",
    ")"
   ]
  }
 ],
 "metadata": {
  "kernelspec": {
   "display_name": "venv",
   "language": "python",
   "name": "python3"
  },
  "language_info": {
   "codemirror_mode": {
    "name": "ipython",
    "version": 3
   },
   "file_extension": ".py",
   "mimetype": "text/x-python",
   "name": "python",
   "nbconvert_exporter": "python",
   "pygments_lexer": "ipython3",
   "version": "3.11.9"
  }
 },
 "nbformat": 4,
 "nbformat_minor": 2
}
